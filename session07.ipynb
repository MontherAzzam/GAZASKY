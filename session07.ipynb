{
  "nbformat": 4,
  "nbformat_minor": 0,
  "metadata": {
    "colab": {
      "provenance": [],
      "authorship_tag": "ABX9TyMCYoB2tmZvCOubf3Smkyl5",
      "include_colab_link": true
    },
    "kernelspec": {
      "name": "python3",
      "display_name": "Python 3"
    },
    "language_info": {
      "name": "python"
    }
  },
  "cells": [
    {
      "cell_type": "markdown",
      "metadata": {
        "id": "view-in-github",
        "colab_type": "text"
      },
      "source": [
        "<a href=\"https://colab.research.google.com/github/MontherAzzam/GAZASKY/blob/main/session07.ipynb\" target=\"_parent\"><img src=\"https://colab.research.google.com/assets/colab-badge.svg\" alt=\"Open In Colab\"/></a>"
      ]
    },
    {
      "cell_type": "code",
      "execution_count": null,
      "metadata": {
        "colab": {
          "base_uri": "https://localhost:8080/"
        },
        "id": "h8Kiij1bnaIg",
        "outputId": "bdae4e70-e385-40cf-92e3-af90a2731133"
      },
      "outputs": [
        {
          "output_type": "stream",
          "name": "stdout",
          "text": [
            "hello ooooo\n"
          ]
        }
      ],
      "source": [
        "print(\"hello ooooo\")"
      ]
    },
    {
      "cell_type": "code",
      "source": [
        "print(\"2025\")"
      ],
      "metadata": {
        "id": "ql87X_wYuhBc",
        "outputId": "ae8a8f1e-58b8-477a-a093-c47027662348",
        "colab": {
          "base_uri": "https://localhost:8080/"
        }
      },
      "execution_count": 2,
      "outputs": [
        {
          "output_type": "stream",
          "name": "stdout",
          "text": [
            "2025\n"
          ]
        }
      ]
    }
  ]
}