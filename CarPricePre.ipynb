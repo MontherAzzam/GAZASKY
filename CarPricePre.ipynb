{
  "nbformat": 4,
  "nbformat_minor": 0,
  "metadata": {
    "colab": {
      "provenance": [],
      "toc_visible": true,
      "authorship_tag": "ABX9TyPURbfMdnJWxxsiG81v9uh3"
    },
    "kernelspec": {
      "name": "python3",
      "display_name": "Python 3"
    },
    "language_info": {
      "name": "python"
    }
  },
  "cells": [
    {
      "cell_type": "code",
      "execution_count": 3,
      "metadata": {
        "colab": {
          "base_uri": "https://localhost:8080/"
        },
        "id": "bzA_tU__8CdD",
        "outputId": "075725d4-4d59-44a7-ed04-ea4ce8966c19"
      },
      "outputs": [
        {
          "output_type": "stream",
          "name": "stdout",
          "text": [
            "Monther branch\n"
          ]
        }
      ],
      "source": [
        "print(\"Monther branch\")"
      ]
    }
  ]
}